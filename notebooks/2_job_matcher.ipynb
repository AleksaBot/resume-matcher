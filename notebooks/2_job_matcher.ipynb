{
 "cells": [
  {
   "cell_type": "code",
   "execution_count": 4,
   "id": "589363d3-3cf2-4f32-9f8d-087c881cee12",
   "metadata": {},
   "outputs": [
    {
     "data": {
      "text/html": [
       "<div>\n",
       "<style scoped>\n",
       "    .dataframe tbody tr th:only-of-type {\n",
       "        vertical-align: middle;\n",
       "    }\n",
       "\n",
       "    .dataframe tbody tr th {\n",
       "        vertical-align: top;\n",
       "    }\n",
       "\n",
       "    .dataframe thead th {\n",
       "        text-align: right;\n",
       "    }\n",
       "</style>\n",
       "<table border=\"1\" class=\"dataframe\">\n",
       "  <thead>\n",
       "    <tr style=\"text-align: right;\">\n",
       "      <th></th>\n",
       "      <th>job_id</th>\n",
       "      <th>title</th>\n",
       "      <th>description</th>\n",
       "    </tr>\n",
       "  </thead>\n",
       "  <tbody>\n",
       "    <tr>\n",
       "      <th>0</th>\n",
       "      <td>1</td>\n",
       "      <td>Software Engineer</td>\n",
       "      <td>Looking for someone skilled in Python, SQL, AW...</td>\n",
       "    </tr>\n",
       "    <tr>\n",
       "      <th>1</th>\n",
       "      <td>2</td>\n",
       "      <td>Frontend Developer</td>\n",
       "      <td>React, JavaScript, HTML/CSS needed. Bonus: Nod...</td>\n",
       "    </tr>\n",
       "    <tr>\n",
       "      <th>2</th>\n",
       "      <td>3</td>\n",
       "      <td>AI Intern</td>\n",
       "      <td>Machine learning, deep learning, TensorFlow, a...</td>\n",
       "    </tr>\n",
       "  </tbody>\n",
       "</table>\n",
       "</div>"
      ],
      "text/plain": [
       "   job_id               title  \\\n",
       "0       1   Software Engineer   \n",
       "1       2  Frontend Developer   \n",
       "2       3           AI Intern   \n",
       "\n",
       "                                         description  \n",
       "0  Looking for someone skilled in Python, SQL, AW...  \n",
       "1  React, JavaScript, HTML/CSS needed. Bonus: Nod...  \n",
       "2  Machine learning, deep learning, TensorFlow, a...  "
      ]
     },
     "execution_count": 4,
     "metadata": {},
     "output_type": "execute_result"
    }
   ],
   "source": [
    "import pandas as pd\n",
    "\n",
    "jobs_df = pd.read_csv(\"../data/jobs.csv\")\n",
    "jobs_df.head()\n"
   ]
  },
  {
   "cell_type": "code",
   "execution_count": 6,
   "id": "7e7f29fd-f488-45b0-8c21-48587a67d18d",
   "metadata": {},
   "outputs": [],
   "source": [
    "from pdfminer.high_level import extract_text\n",
    "import os\n",
    "\n",
    "resume_path = os.path.join(\"..\", \"data\", \"Stefanovic_CVv1.pdf\")\n",
    "text = extract_text(resume_path)\n",
    "resume_text = text.lower()\n"
   ]
  },
  {
   "cell_type": "code",
   "execution_count": 9,
   "id": "94c50251-8829-4859-9247-9695667c5426",
   "metadata": {},
   "outputs": [
    {
     "name": "stdout",
     "output_type": "stream",
     "text": [
      "🔹 Experience 1:\n",
      "software engineer\n",
      "\n",
      "🔹 Experience 2:\n",
      "software engineering with concentration with ai\n",
      "\n"
     ]
    }
   ],
   "source": [
    "import re\n",
    "\n",
    "# Look for lines starting with \"software engineer\" and grab following text\n",
    "experience_sections = re.findall(r'(software engineer.*?)(?=\\n\\n|\\n[a-z]|$)', resume_text, re.DOTALL)\n",
    "\n",
    "# Preview\n",
    "for i, section in enumerate(experience_sections):\n",
    "    print(f\"🔹 Experience {i+1}:\\n{section.strip()}\\n\")\n"
   ]
  },
  {
   "cell_type": "code",
   "execution_count": 10,
   "id": "02510edf-db74-45fc-8e4d-5d882b65bf88",
   "metadata": {},
   "outputs": [],
   "source": [
    "structured_experience = []\n",
    "\n",
    "for section in experience_sections:\n",
    "    lines = section.strip().split(\"\\n\")\n",
    "    role = lines[0].strip() if lines else \"\"\n",
    "    company = lines[1].strip() if len(lines) > 1 else \"\"\n",
    "    description = \"\\n\".join(lines[2:]).strip() if len(lines) > 2 else \"\"\n",
    "    \n",
    "    structured_experience.append({\n",
    "        \"role\": role,\n",
    "        \"company\": company,\n",
    "        \"description\": description\n",
    "    })\n"
   ]
  },
  {
   "cell_type": "code",
   "execution_count": 11,
   "id": "e8bd9a03-c114-4a76-99d7-1381dd9939da",
   "metadata": {},
   "outputs": [
    {
     "name": "stdout",
     "output_type": "stream",
     "text": [
      "[\n",
      "  {\n",
      "    \"role\": \"software engineer\",\n",
      "    \"company\": \"\",\n",
      "    \"description\": \"\"\n",
      "  },\n",
      "  {\n",
      "    \"role\": \"software engineering with concentration with ai\",\n",
      "    \"company\": \"\",\n",
      "    \"description\": \"\"\n",
      "  }\n",
      "]\n"
     ]
    }
   ],
   "source": [
    "import json\n",
    "print(json.dumps(structured_experience, indent=2))\n"
   ]
  },
  {
   "cell_type": "code",
   "execution_count": 7,
   "id": "b439636f-7255-4666-afed-59bc525d73d7",
   "metadata": {},
   "outputs": [],
   "source": [
    "skill_keywords = [\n",
    "    \"python\", \"java\", \"javascript\", \"html\", \"css\", \"sql\", \"aws\", \"azure\",\n",
    "    \"machine learning\", \"deep learning\", \"tensorflow\", \"pytorch\",\n",
    "    \"git\", \"linux\", \"microsoft azure\", \"flask\", \"node.js\", \"docker\",\n",
    "    \"data analysis\", \"nlp\", \"react\", \"express\", \"mongodb\", \"php\"\n",
    "]\n",
    "\n",
    "matched_skills = [skill for skill in skill_keywords if skill in resume_text]\n"
   ]
  },
  {
   "cell_type": "code",
   "execution_count": 12,
   "id": "892a2916-2b46-459b-8f99-3b32ac7f7681",
   "metadata": {},
   "outputs": [
    {
     "data": {
      "text/html": [
       "<div>\n",
       "<style scoped>\n",
       "    .dataframe tbody tr th:only-of-type {\n",
       "        vertical-align: middle;\n",
       "    }\n",
       "\n",
       "    .dataframe tbody tr th {\n",
       "        vertical-align: top;\n",
       "    }\n",
       "\n",
       "    .dataframe thead th {\n",
       "        text-align: right;\n",
       "    }\n",
       "</style>\n",
       "<table border=\"1\" class=\"dataframe\">\n",
       "  <thead>\n",
       "    <tr style=\"text-align: right;\">\n",
       "      <th></th>\n",
       "      <th>title</th>\n",
       "      <th>match_score</th>\n",
       "    </tr>\n",
       "  </thead>\n",
       "  <tbody>\n",
       "    <tr>\n",
       "      <th>1</th>\n",
       "      <td>Frontend Developer</td>\n",
       "      <td>0.206373</td>\n",
       "    </tr>\n",
       "    <tr>\n",
       "      <th>0</th>\n",
       "      <td>Software Engineer</td>\n",
       "      <td>0.101446</td>\n",
       "    </tr>\n",
       "    <tr>\n",
       "      <th>2</th>\n",
       "      <td>AI Intern</td>\n",
       "      <td>0.037303</td>\n",
       "    </tr>\n",
       "  </tbody>\n",
       "</table>\n",
       "</div>"
      ],
      "text/plain": [
       "                title  match_score\n",
       "1  Frontend Developer     0.206373\n",
       "0   Software Engineer     0.101446\n",
       "2           AI Intern     0.037303"
      ]
     },
     "execution_count": 12,
     "metadata": {},
     "output_type": "execute_result"
    }
   ],
   "source": [
    "from sklearn.feature_extraction.text import TfidfVectorizer\n",
    "from sklearn.metrics.pairwise import cosine_similarity\n",
    "\n",
    "# Combine your resume's structured content into one text blob\n",
    "resume_doc = \" \".join(matched_skills) + \" \" + \" \".join([exp['description'] for exp in structured_experience])\n",
    "\n",
    "# Combine resume + job descriptions\n",
    "documents = [resume_doc] + jobs_df['description'].tolist()\n",
    "\n",
    "# Vectorize using TF-IDF\n",
    "vectorizer = TfidfVectorizer()\n",
    "tfidf_matrix = vectorizer.fit_transform(documents)\n",
    "\n",
    "# Compute cosine similarity between resume (index 0) and job descriptions (1+)\n",
    "similarities = cosine_similarity(tfidf_matrix[0:1], tfidf_matrix[1:]).flatten()\n",
    "\n",
    "# Add scores to DataFrame\n",
    "jobs_df['match_score'] = similarities\n",
    "\n",
    "# Sort by best match\n",
    "top_matches = jobs_df.sort_values(by='match_score', ascending=False)\n",
    "\n",
    "# Show top 3\n",
    "top_matches[['title', 'match_score']].head(3)\n"
   ]
  },
  {
   "cell_type": "code",
   "execution_count": null,
   "id": "e1066d7b-35fb-4242-9c45-51f7a67bab08",
   "metadata": {},
   "outputs": [],
   "source": []
  }
 ],
 "metadata": {
  "kernelspec": {
   "display_name": "Python 3 (ipykernel)",
   "language": "python",
   "name": "python3"
  },
  "language_info": {
   "codemirror_mode": {
    "name": "ipython",
    "version": 3
   },
   "file_extension": ".py",
   "mimetype": "text/x-python",
   "name": "python",
   "nbconvert_exporter": "python",
   "pygments_lexer": "ipython3",
   "version": "3.13.0"
  }
 },
 "nbformat": 4,
 "nbformat_minor": 5
}

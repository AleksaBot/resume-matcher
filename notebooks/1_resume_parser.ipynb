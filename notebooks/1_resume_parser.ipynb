{
 "cells": [
  {
   "cell_type": "code",
   "execution_count": 2,
   "id": "b36d3b7c-e040-4ce6-a8ce-b7d501680a6c",
   "metadata": {},
   "outputs": [
    {
     "name": "stdout",
     "output_type": "stream",
     "text": [
      "Collecting pdfminer.six\n",
      "  Downloading pdfminer_six-20250416-py3-none-any.whl.metadata (4.1 kB)\n",
      "Requirement already satisfied: charset-normalizer>=2.0.0 in c:\\users\\aleks\\appdata\\local\\programs\\python\\python313\\lib\\site-packages (from pdfminer.six) (3.4.0)\n",
      "Collecting cryptography>=36.0.0 (from pdfminer.six)\n",
      "  Downloading cryptography-44.0.3-cp39-abi3-win_amd64.whl.metadata (5.7 kB)\n",
      "Requirement already satisfied: cffi>=1.12 in c:\\users\\aleks\\appdata\\local\\programs\\python\\python313\\lib\\site-packages (from cryptography>=36.0.0->pdfminer.six) (1.17.1)\n",
      "Requirement already satisfied: pycparser in c:\\users\\aleks\\appdata\\local\\programs\\python\\python313\\lib\\site-packages (from cffi>=1.12->cryptography>=36.0.0->pdfminer.six) (2.22)\n",
      "Downloading pdfminer_six-20250416-py3-none-any.whl (5.6 MB)\n",
      "   ---------------------------------------- 0.0/5.6 MB ? eta -:--:--\n",
      "   --- ------------------------------------ 0.5/5.6 MB 2.0 MB/s eta 0:00:03\n",
      "   ------- -------------------------------- 1.0/5.6 MB 2.7 MB/s eta 0:00:02\n",
      "   ------------- -------------------------- 1.8/5.6 MB 3.0 MB/s eta 0:00:02\n",
      "   -------------------- ------------------- 2.9/5.6 MB 3.3 MB/s eta 0:00:01\n",
      "   ------------------------------- -------- 4.5/5.6 MB 4.2 MB/s eta 0:00:01\n",
      "   ---------------------------------------- 5.6/5.6 MB 4.5 MB/s eta 0:00:00\n",
      "Downloading cryptography-44.0.3-cp39-abi3-win_amd64.whl (3.2 MB)\n",
      "   ---------------------------------------- 0.0/3.2 MB ? eta -:--:--\n",
      "   -------------------------- ------------- 2.1/3.2 MB 9.5 MB/s eta 0:00:01\n",
      "   ---------------------------------------- 3.2/3.2 MB 9.7 MB/s eta 0:00:00\n",
      "Installing collected packages: cryptography, pdfminer.six\n",
      "Successfully installed cryptography-44.0.3 pdfminer.six-20250416\n"
     ]
    },
    {
     "name": "stderr",
     "output_type": "stream",
     "text": [
      "\n",
      "[notice] A new release of pip is available: 24.2 -> 25.1.1\n",
      "[notice] To update, run: python.exe -m pip install --upgrade pip\n"
     ]
    }
   ],
   "source": [
    "!pip install pdfminer.six"
   ]
  },
  {
   "cell_type": "code",
   "execution_count": 8,
   "id": "cfdd04cc-7443-4614-9538-a8fe722af300",
   "metadata": {},
   "outputs": [
    {
     "name": "stdout",
     "output_type": "stream",
     "text": [
      "ALEKSA STEFANOVIC \n",
      "\n",
      "Willowbrook, IL 60527 | (270)-570-1489 | aleksa252000@gmail.com \n",
      "\n",
      "    LinkedIn: https://www.linkedin.com/in/aleksa-stefanovic-2874b5221/ \n",
      "\n",
      "Summary \n",
      "\n",
      "A responsible and motivated individual, ready to apply my education in the workplace. Offers excellent ability to \n",
      "handle challenging work, excels in a team environment and excellent time management skills. Seeking \n",
      "opportunities to expand skills while facilitating company growth. \n",
      "\n",
      "Experience \n",
      "\n",
      "Software Engineer \n",
      "Fiber Node Services  \n",
      "\n",
      " 07/2023 to 05/2024 \n",
      " Willowbrook, IL  \n",
      "•  Managed and organized many different IT projects such as: creating a new website, adding new portals \n",
      "\n",
      "for customers, etc... \n",
      "\n",
      "•  Fix bugs and update current website / software that the company uses (using mostly JavaScript and \n",
      "\n",
      "PHP). \n",
      "\n",
      "•  Create and maintain user accounts, permissions, and access rights. \n",
      "•  Develop and maintain system documentation, such as user manuals and procedures (ISO 9001:2015). \n",
      " 05/2022 to 08/2022  \n",
      " Owensboro, KY  \n",
      "\n",
      "\n"
     ]
    }
   ],
   "source": [
    "from pdfminer.high_level import extract_text\n",
    "import os\n",
    "\n",
    "# Path to your resume\n",
    "resume_path = os.path.join(\"..\", \"data\", \"Stefanovic_CVv1.pdf\")\n",
    "\n",
    "# Extract raw text\n",
    "text = extract_text(resume_path)\n",
    "\n",
    "# Preview\n",
    "print(text[:1000])  # Print first 1000 characters\n"
   ]
  },
  {
   "cell_type": "code",
   "execution_count": 9,
   "id": "01ff10b1-8741-4f4b-83db-363e37b86b2b",
   "metadata": {},
   "outputs": [],
   "source": [
    "# Sample skill keywords list (we'll expand this later)\n",
    "skill_keywords = [\n",
    "    \"python\", \"java\", \"javascript\", \"html\", \"css\", \"sql\", \"aws\", \"azure\",\n",
    "    \"machine learning\", \"deep learning\", \"tensorflow\", \"pytorch\",\n",
    "    \"git\", \"linux\", \"microsoft azure\", \"flask\", \"node.js\", \"docker\",\n",
    "    \"data analysis\", \"nlp\", \"react\", \"express\", \"mongodb\", \"php\"\n",
    "]\n"
   ]
  },
  {
   "cell_type": "code",
   "execution_count": 10,
   "id": "f25725aa-aba4-46b4-9272-6cdde79d0f8c",
   "metadata": {},
   "outputs": [
    {
     "name": "stdout",
     "output_type": "stream",
     "text": [
      "Matched Skills: ['python', 'java', 'javascript', 'sql', 'azure', 'microsoft azure', 'node.js', 'express', 'mongodb', 'php']\n"
     ]
    }
   ],
   "source": [
    "# Convert resume to lowercase\n",
    "resume_text = text.lower()\n",
    "\n",
    "# Match skills\n",
    "matched_skills = [skill for skill in skill_keywords if skill in resume_text]\n",
    "\n",
    "print(\"Matched Skills:\", matched_skills)\n"
   ]
  },
  {
   "cell_type": "code",
   "execution_count": 11,
   "id": "ec2e4ee9-535d-45b6-ae7f-31711d407a5d",
   "metadata": {},
   "outputs": [
    {
     "name": "stdout",
     "output_type": "stream",
     "text": [
      "\n",
      "🔹 Experience 1:\n",
      " software engineer \n",
      "fiber node services\n",
      "\n",
      "🔹 Experience 2:\n",
      " software engineering with concentration with ai  \n",
      "depaul university  \n",
      "•  dean's list \n",
      "•  3.5 gpa\n"
     ]
    }
   ],
   "source": [
    "import re\n",
    "\n",
    "# Look for common job role sections (can be improved later)\n",
    "experience_sections = re.findall(r'(software engineer.*?)(?=\\n\\n|\\n[A-Z])', resume_text, re.DOTALL)\n",
    "\n",
    "# Display extracted experience blocks\n",
    "for idx, section in enumerate(experience_sections):\n",
    "    print(f\"\\n🔹 Experience {idx+1}:\\n\", section.strip())\n"
   ]
  },
  {
   "cell_type": "code",
   "execution_count": 12,
   "id": "74614312-1d7e-4820-930f-04b9790d7978",
   "metadata": {},
   "outputs": [
    {
     "name": "stdout",
     "output_type": "stream",
     "text": [
      "[\n",
      "  {\n",
      "    \"role\": \"software engineer\",\n",
      "    \"company\": \"fiber node services\",\n",
      "    \"description\": \"\"\n",
      "  },\n",
      "  {\n",
      "    \"role\": \"software engineering with concentration with ai\",\n",
      "    \"company\": \"depaul university\",\n",
      "    \"description\": \"\\u2022  dean's list \\n\\u2022  3.5 gpa\"\n",
      "  }\n",
      "]\n"
     ]
    }
   ],
   "source": [
    "# Very basic formatter (upgrade later)\n",
    "structured_experience = []\n",
    "\n",
    "for section in experience_sections:\n",
    "    lines = section.strip().split(\"\\n\")\n",
    "    if len(lines) >= 2:\n",
    "        role = lines[0].strip()\n",
    "        company = lines[1].strip()\n",
    "    else:\n",
    "        role = lines[0].strip()\n",
    "        company = \"\"\n",
    "\n",
    "    structured_experience.append({\n",
    "        \"role\": role,\n",
    "        \"company\": company,\n",
    "        \"description\": \"\\n\".join(lines[2:]).strip()\n",
    "    })\n",
    "\n",
    "import json\n",
    "print(json.dumps(structured_experience, indent=2))\n"
   ]
  },
  {
   "cell_type": "code",
   "execution_count": null,
   "id": "76c0ec58-c6f7-4e0b-9fad-02e2d242ca1d",
   "metadata": {},
   "outputs": [],
   "source": []
  }
 ],
 "metadata": {
  "kernelspec": {
   "display_name": "Python 3 (ipykernel)",
   "language": "python",
   "name": "python3"
  },
  "language_info": {
   "codemirror_mode": {
    "name": "ipython",
    "version": 3
   },
   "file_extension": ".py",
   "mimetype": "text/x-python",
   "name": "python",
   "nbconvert_exporter": "python",
   "pygments_lexer": "ipython3",
   "version": "3.13.0"
  }
 },
 "nbformat": 4,
 "nbformat_minor": 5
}
